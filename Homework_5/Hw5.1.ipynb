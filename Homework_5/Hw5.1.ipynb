{
 "cells": [
  {
   "cell_type": "markdown",
   "id": "0c3900b3",
   "metadata": {},
   "source": [
    "Частина перша\n",
    "Для прямокутної області площею 1000 м2, що примикає до прямої ділянки річки, необхідно збудувати огорожу (причому з боку річки огорожу будувати не потрібно). За яких розмірів області a, b довжина огорожі буде мінімальною? Використовуйте функцію minimize з параметрами обмеження bounds і constraints"
   ]
  },
  {
   "cell_type": "code",
   "execution_count": 1,
   "id": "8bad94ba",
   "metadata": {},
   "outputs": [],
   "source": [
    "from scipy.optimize import minimize\n",
    "import numpy as np"
   ]
  },
  {
   "cell_type": "code",
   "execution_count": 35,
   "id": "9c4a9411",
   "metadata": {},
   "outputs": [
    {
     "name": "stdout",
     "output_type": "stream",
     "text": [
      "Загкальна довжина паркану 89.44271910000236 - , 2 сторони по 22.360668795794503 і 1 сторона - 44.721337591589005\n"
     ]
    },
    {
     "data": {
      "text/plain": [
       "     fun: 89.44271910000236\n",
       "     jac: array([-0.00043869,  0.        ])\n",
       " message: 'Optimization terminated successfully'\n",
       "    nfev: 41\n",
       "     nit: 11\n",
       "    njev: 11\n",
       "  status: 0\n",
       " success: True\n",
       "       x: array([22.3606688, 50.       ])"
      ]
     },
     "execution_count": 35,
     "metadata": {},
     "output_type": "execute_result"
    }
   ],
   "source": [
    "def fence(arg):\n",
    "    a, b = arg\n",
    "    b = 1000/a\n",
    "    return 2*a+ b\n",
    "\n",
    "xbounds = (1, 1000)\n",
    "ybounds = (1, 1000)\n",
    "bounds = (xbounds, ybounds)\n",
    "\n",
    "result = minimize(fence, [1, 50], bounds=bounds, method='slsqp')\n",
    "print(f'Загкальна довжина паркану {result[\"fun\"]} - , 2 сторони по {result[\"x\"][0]} і 1 сторона - {2*result[\"x\"][0]}')\n",
    "result"
   ]
  },
  {
   "cell_type": "code",
   "execution_count": 29,
   "id": "139eae36",
   "metadata": {},
   "outputs": [
    {
     "data": {
      "text/plain": [
       "     fun: 89.44271909999313\n",
       "     jac: array([-5.53131104e-05,  0.00000000e+00])\n",
       " message: 'Optimization terminated successfully'\n",
       "    nfev: 47\n",
       "     nit: 14\n",
       "    njev: 14\n",
       "  status: 0\n",
       " success: True\n",
       "       x: array([22.36067563, 44.72136783])"
      ]
     },
     "execution_count": 29,
     "metadata": {},
     "output_type": "execute_result"
    }
   ],
   "source": [
    "constraints = ({'type': 'eq', 'fun': lambda x:  x[0] * x[1] - 1000})\n",
    "result1 = minimize(fence, [1, 50], bounds=bounds, constraints=constraints)\n",
    "result1"
   ]
  },
  {
   "cell_type": "code",
   "execution_count": 27,
   "id": "8a098ff2",
   "metadata": {},
   "outputs": [
    {
     "name": "stdout",
     "output_type": "stream",
     "text": [
      "Загкальна довжина паркану 89.44271910000236 - , 2 сторони по 22.360668795794503 і 1 сторона - 44.721337591589005\n"
     ]
    }
   ],
   "source": [
    "print(f'Загкальна довжина паркану {result[\"fun\"]} - , 2 сторони по {result[\"x\"][0]} і 1 сторона - {2*result[\"x\"][0]}')\n"
   ]
  },
  {
   "cell_type": "code",
   "execution_count": null,
   "id": "c32b98dc",
   "metadata": {},
   "outputs": [],
   "source": []
  },
  {
   "cell_type": "code",
   "execution_count": null,
   "id": "412de980",
   "metadata": {},
   "outputs": [],
   "source": []
  }
 ],
 "metadata": {
  "kernelspec": {
   "display_name": "Python 3 (ipykernel)",
   "language": "python",
   "name": "python3"
  },
  "language_info": {
   "codemirror_mode": {
    "name": "ipython",
    "version": 3
   },
   "file_extension": ".py",
   "mimetype": "text/x-python",
   "name": "python",
   "nbconvert_exporter": "python",
   "pygments_lexer": "ipython3",
   "version": "3.9.13"
  }
 },
 "nbformat": 4,
 "nbformat_minor": 5
}
