{
 "cells": [
  {
   "cell_type": "markdown",
   "id": "f5c36ec1",
   "metadata": {},
   "source": [
    "Задание 1"
   ]
  },
  {
   "cell_type": "code",
   "execution_count": 12,
   "id": "d951f797",
   "metadata": {},
   "outputs": [],
   "source": [
    "from sklearn.model_selection import train_test_split\n",
    "from sklearn.datasets import load_wine\n",
    "from sklearn.linear_model import RidgeClassifier, LinearRegression\n",
    "\n"
   ]
  },
  {
   "cell_type": "code",
   "execution_count": 13,
   "id": "a247ad6f",
   "metadata": {},
   "outputs": [],
   "source": [
    "wine_dataset = load_wine()"
   ]
  },
  {
   "cell_type": "code",
   "execution_count": 14,
   "id": "2bbd7ecc",
   "metadata": {},
   "outputs": [
    {
     "data": {
      "text/plain": [
       "(133, 13)"
      ]
     },
     "execution_count": 14,
     "metadata": {},
     "output_type": "execute_result"
    }
   ],
   "source": [
    "X, y = load_wine(return_X_y=True)\n",
    "X_train, X_test, y_train, y_test = train_test_split(X, y, shuffle=True, test_size=0.25, random_state=42) \n",
    "X_train.shape\n"
   ]
  },
  {
   "cell_type": "code",
   "execution_count": 15,
   "id": "b8c4228e",
   "metadata": {},
   "outputs": [
    {
     "data": {
      "text/plain": [
       "0.9777777777777777"
      ]
     },
     "execution_count": 15,
     "metadata": {},
     "output_type": "execute_result"
    }
   ],
   "source": [
    "\n",
    "wine_clf = RidgeClassifier().fit(X_train, y_train)\n",
    "\n",
    "wine_clf.score(X_test, y_test)"
   ]
  },
  {
   "cell_type": "code",
   "execution_count": 16,
   "id": "96ebb92a",
   "metadata": {},
   "outputs": [
    {
     "data": {
      "text/plain": [
       "array([0, 0, 2, 0, 1, 0, 1, 2, 1, 2, 0, 2, 0, 1, 0, 1, 1, 1, 0, 1, 0, 1,\n",
       "       1, 2, 2, 2, 1, 1, 1, 0, 0, 1, 2, 0, 0, 0, 2, 2, 1, 2, 0, 1, 1, 0,\n",
       "       2])"
      ]
     },
     "execution_count": 16,
     "metadata": {},
     "output_type": "execute_result"
    }
   ],
   "source": [
    "wine_clf.predict(X_test)\n"
   ]
  },
  {
   "cell_type": "code",
   "execution_count": 17,
   "id": "cd99cb01",
   "metadata": {},
   "outputs": [
    {
     "data": {
      "text/plain": [
       "0.9830508474576272"
      ]
     },
     "execution_count": 17,
     "metadata": {},
     "output_type": "execute_result"
    }
   ],
   "source": [
    "X_train, X_test, y_train, y_test = train_test_split(X, y, shuffle=True, test_size=0.33, random_state=42) \n",
    "wine_clf2 = RidgeClassifier().fit(X_train, y_train)\n",
    "wine_clf2.score(X_test, y_test)"
   ]
  },
  {
   "cell_type": "code",
   "execution_count": 18,
   "id": "93005ffa",
   "metadata": {},
   "outputs": [
    {
     "data": {
      "text/plain": [
       "0.9629629629629629"
      ]
     },
     "execution_count": 18,
     "metadata": {},
     "output_type": "execute_result"
    }
   ],
   "source": [
    "X_train3, X_test3, y_train3, y_test3 = train_test_split(X, y, shuffle=True, test_size=0.45) \n",
    "wine_clf_3 = RidgeClassifier().fit(X_train3, y_train3)\n",
    "wine_clf_3.score(X_test3, y_test3)"
   ]
  },
  {
   "cell_type": "markdown",
   "id": "2301a007",
   "metadata": {},
   "source": [
    "Задание 2\n",
    "\n",
    "Постройте линейный классификатор подобно тому, как мы это делали в задании 1 на датасете Ириса Фишера."
   ]
  },
  {
   "cell_type": "code",
   "execution_count": 19,
   "id": "1c30d908",
   "metadata": {},
   "outputs": [],
   "source": [
    "from sklearn.datasets import load_iris"
   ]
  },
  {
   "cell_type": "code",
   "execution_count": 20,
   "id": "f1a2b8ab",
   "metadata": {},
   "outputs": [
    {
     "data": {
      "text/plain": [
       "array(['setosa', 'versicolor', 'virginica'], dtype='<U10')"
      ]
     },
     "execution_count": 20,
     "metadata": {},
     "output_type": "execute_result"
    }
   ],
   "source": [
    "iris = load_iris()\n",
    "iris_X, iris_y = load_iris(return_X_y=True)\n",
    "iris_X.shape\n",
    "iris.target_names"
   ]
  },
  {
   "cell_type": "code",
   "execution_count": 21,
   "id": "5c64fbdb",
   "metadata": {},
   "outputs": [
    {
     "data": {
      "text/plain": [
       "0.7105263157894737"
      ]
     },
     "execution_count": 21,
     "metadata": {},
     "output_type": "execute_result"
    }
   ],
   "source": [
    "X_train, X_test, y_train, y_test = train_test_split(iris_X, iris_y, shuffle=True, test_size=0.25) \n",
    "iris_clf = RidgeClassifier().fit(X_train, y_train)\n",
    "iris_clf.score(X_test, y_test)\n"
   ]
  },
  {
   "cell_type": "code",
   "execution_count": 22,
   "id": "e0f501b5",
   "metadata": {},
   "outputs": [
    {
     "data": {
      "text/plain": [
       "0.782608695652174"
      ]
     },
     "execution_count": 22,
     "metadata": {},
     "output_type": "execute_result"
    }
   ],
   "source": [
    "X_train, X_test, y_train, y_test = train_test_split(iris_X, iris_y, shuffle=True, test_size=0.15) \n",
    "iris_clf2 = RidgeClassifier().fit(X_train, y_train)\n",
    "iris_clf2.score(X_test, y_test)"
   ]
  },
  {
   "cell_type": "markdown",
   "id": "5c08664a",
   "metadata": {},
   "source": [
    "Задание 3\n",
    "\n",
    "В этом задании нам предстоит построить линейный регрессор. Загрузите датасет с данными о заболевании диабетом."
   ]
  },
  {
   "cell_type": "code",
   "execution_count": 23,
   "id": "d56656a9",
   "metadata": {},
   "outputs": [],
   "source": [
    "from sklearn.datasets import load_diabetes\n"
   ]
  },
  {
   "cell_type": "code",
   "execution_count": 24,
   "id": "732b5801",
   "metadata": {},
   "outputs": [
    {
     "data": {
      "text/plain": [
       "(442, 10)"
      ]
     },
     "execution_count": 24,
     "metadata": {},
     "output_type": "execute_result"
    }
   ],
   "source": [
    "diabetes = load_diabetes()\n",
    "diabetes_X, diabetes_y = load_diabetes(return_X_y=True)\n",
    "diabetes_X.shape\n"
   ]
  },
  {
   "cell_type": "code",
   "execution_count": 25,
   "id": "b1e650a1",
   "metadata": {},
   "outputs": [
    {
     "data": {
      "text/plain": [
       "array([151.,  75., 141., 206., 135.,  97., 138.,  63., 110., 310., 101.,\n",
       "        69., 179., 185., 118., 171., 166., 144.,  97., 168.,  68.,  49.,\n",
       "        68., 245., 184., 202., 137.,  85., 131., 283., 129.,  59., 341.,\n",
       "        87.,  65., 102., 265., 276., 252.,  90., 100.,  55.,  61.,  92.,\n",
       "       259.,  53., 190., 142.,  75., 142., 155., 225.,  59., 104., 182.,\n",
       "       128.,  52.,  37., 170., 170.,  61., 144.,  52., 128.,  71., 163.,\n",
       "       150.,  97., 160., 178.,  48., 270., 202., 111.,  85.,  42., 170.,\n",
       "       200., 252., 113., 143.,  51.,  52., 210.,  65., 141.,  55., 134.,\n",
       "        42., 111.,  98., 164.,  48.,  96.,  90., 162., 150., 279.,  92.,\n",
       "        83., 128., 102., 302., 198.,  95.,  53., 134., 144., 232.,  81.,\n",
       "       104.,  59., 246., 297., 258., 229., 275., 281., 179., 200., 200.,\n",
       "       173., 180.,  84., 121., 161.,  99., 109., 115., 268., 274., 158.,\n",
       "       107.,  83., 103., 272.,  85., 280., 336., 281., 118., 317., 235.,\n",
       "        60., 174., 259., 178., 128.,  96., 126., 288.,  88., 292.,  71.,\n",
       "       197., 186.,  25.,  84.,  96., 195.,  53., 217., 172., 131., 214.,\n",
       "        59.,  70., 220., 268., 152.,  47.,  74., 295., 101., 151., 127.,\n",
       "       237., 225.,  81., 151., 107.,  64., 138., 185., 265., 101., 137.,\n",
       "       143., 141.,  79., 292., 178.,  91., 116.,  86., 122.,  72., 129.,\n",
       "       142.,  90., 158.,  39., 196., 222., 277.,  99., 196., 202., 155.,\n",
       "        77., 191.,  70.,  73.,  49.,  65., 263., 248., 296., 214., 185.,\n",
       "        78.,  93., 252., 150.,  77., 208.,  77., 108., 160.,  53., 220.,\n",
       "       154., 259.,  90., 246., 124.,  67.,  72., 257., 262., 275., 177.,\n",
       "        71.,  47., 187., 125.,  78.,  51., 258., 215., 303., 243.,  91.,\n",
       "       150., 310., 153., 346.,  63.,  89.,  50.,  39., 103., 308., 116.,\n",
       "       145.,  74.,  45., 115., 264.,  87., 202., 127., 182., 241.,  66.,\n",
       "        94., 283.,  64., 102., 200., 265.,  94., 230., 181., 156., 233.,\n",
       "        60., 219.,  80.,  68., 332., 248.,  84., 200.,  55.,  85.,  89.,\n",
       "        31., 129.,  83., 275.,  65., 198., 236., 253., 124.,  44., 172.,\n",
       "       114., 142., 109., 180., 144., 163., 147.,  97., 220., 190., 109.,\n",
       "       191., 122., 230., 242., 248., 249., 192., 131., 237.,  78., 135.,\n",
       "       244., 199., 270., 164.,  72.,  96., 306.,  91., 214.,  95., 216.,\n",
       "       263., 178., 113., 200., 139., 139.,  88., 148.,  88., 243.,  71.,\n",
       "        77., 109., 272.,  60.,  54., 221.,  90., 311., 281., 182., 321.,\n",
       "        58., 262., 206., 233., 242., 123., 167.,  63., 197.,  71., 168.,\n",
       "       140., 217., 121., 235., 245.,  40.,  52., 104., 132.,  88.,  69.,\n",
       "       219.,  72., 201., 110.,  51., 277.,  63., 118.,  69., 273., 258.,\n",
       "        43., 198., 242., 232., 175.,  93., 168., 275., 293., 281.,  72.,\n",
       "       140., 189., 181., 209., 136., 261., 113., 131., 174., 257.,  55.,\n",
       "        84.,  42., 146., 212., 233.,  91., 111., 152., 120.,  67., 310.,\n",
       "        94., 183.,  66., 173.,  72.,  49.,  64.,  48., 178., 104., 132.,\n",
       "       220.,  57.])"
      ]
     },
     "execution_count": 25,
     "metadata": {},
     "output_type": "execute_result"
    }
   ],
   "source": [
    "diabetes.target\n"
   ]
  },
  {
   "cell_type": "code",
   "execution_count": 26,
   "id": "401dab3c",
   "metadata": {},
   "outputs": [
    {
     "data": {
      "text/plain": [
       "['age', 'sex', 'bmi', 'bp', 's1', 's2', 's3', 's4', 's5', 's6']"
      ]
     },
     "execution_count": 26,
     "metadata": {},
     "output_type": "execute_result"
    }
   ],
   "source": [
    "diabetes.feature_names"
   ]
  },
  {
   "cell_type": "code",
   "execution_count": 27,
   "id": "7efce65d",
   "metadata": {},
   "outputs": [],
   "source": [
    "X_train, X_test, y_train, y_test = train_test_split(diabetes_X, diabetes_y, shuffle=True, test_size=0.25)\n"
   ]
  },
  {
   "cell_type": "code",
   "execution_count": 32,
   "id": "ab3835c6",
   "metadata": {},
   "outputs": [
    {
     "data": {
      "text/plain": [
       "array([177.50647646, 214.71447465, 174.27030595,  99.69197096,\n",
       "       243.36568592, 182.42791342, 150.94917302, 277.29714232,\n",
       "       141.97651261, 129.26643273, 156.83756194, 111.18598642,\n",
       "        81.19741139, 204.35789412, 138.85922799, 160.72382857,\n",
       "        69.52831953,  51.40986982, 252.35890349, 102.39250314,\n",
       "        78.04495541, 203.2593295 , 152.10735451, 136.88307481,\n",
       "       147.3443527 , 152.78741476,  90.36738516, 171.29832501,\n",
       "       156.93935922, 105.9469967 ,  58.12141666, 121.54165059,\n",
       "       114.28411013, 116.27050633, 209.14993377, 160.89365877,\n",
       "       162.25405472,  58.25131895, 230.33650485, 136.55067117,\n",
       "       139.68394561, 209.69536756, 189.19596404,  72.37627058,\n",
       "       134.96668322,  63.11183446, 123.83849246, 120.23382962,\n",
       "        91.42452095, 101.62052381, 234.42608721, 164.87044418,\n",
       "       187.26738688, 112.7239814 ,  76.16068428, 146.05878256,\n",
       "       166.63382358,  64.30340765, 168.43171402,  98.38359971,\n",
       "       116.8798222 , 178.25426191, 220.6580942 , 230.10595389,\n",
       "       195.51630754, 151.96524097, 247.75389681, 200.39248543,\n",
       "       223.8235574 ,  89.34991675, 237.06148581, 101.70800389,\n",
       "        88.40729873, 260.43329759, 132.42728053,  76.0315515 ,\n",
       "       143.69692717, 150.16154644, 198.56616151, 173.92270479,\n",
       "       204.16459519, 254.43808612, 119.10685904, 177.84757493,\n",
       "        56.41381702, 173.10375974, 112.22644619, 193.74146261,\n",
       "       134.91709083, 117.75534444, 214.29521844, 250.98016626,\n",
       "       125.02920235,  84.33683321, 141.67671924, 140.04690464,\n",
       "        76.36867978, 115.99294684, 187.20046842, 157.19714243,\n",
       "       156.78922337,  79.791474  , 199.96278942, 125.88045393,\n",
       "       196.97965915, 193.16963927, 215.6935652 , 190.97802798,\n",
       "        53.65291412, 124.59781976, 138.55704316])"
      ]
     },
     "execution_count": 32,
     "metadata": {},
     "output_type": "execute_result"
    }
   ],
   "source": [
    "regressor = LinearRegression().fit(X_train, y_train)\n",
    "regressor.predict(X_test)\n"
   ]
  },
  {
   "cell_type": "code",
   "execution_count": 33,
   "id": "baeffcfd",
   "metadata": {},
   "outputs": [
    {
     "data": {
      "text/plain": [
       "0.5491405846400506"
      ]
     },
     "execution_count": 33,
     "metadata": {},
     "output_type": "execute_result"
    }
   ],
   "source": [
    "\n",
    "regressor.score(X_test, y_test)"
   ]
  },
  {
   "cell_type": "code",
   "execution_count": 35,
   "id": "7934a618",
   "metadata": {},
   "outputs": [
    {
     "data": {
      "text/plain": [
       "0.45991450440984016"
      ]
     },
     "execution_count": 35,
     "metadata": {},
     "output_type": "execute_result"
    }
   ],
   "source": [
    "X_train, X_test, y_train, y_test = train_test_split(diabetes_X, diabetes_y, shuffle=True, test_size=0.35)\n",
    "regressor2 = LinearRegression().fit(X_train, y_train)\n",
    "regressor2.score(X_test, y_test)"
   ]
  },
  {
   "cell_type": "code",
   "execution_count": 36,
   "id": "3ba9cda8",
   "metadata": {},
   "outputs": [
    {
     "data": {
      "text/plain": [
       "0.46877794409601126"
      ]
     },
     "execution_count": 36,
     "metadata": {},
     "output_type": "execute_result"
    }
   ],
   "source": [
    "X_train, X_test, y_train, y_test = train_test_split(diabetes_X, diabetes_y, shuffle=True, test_size=0.15)\n",
    "regressor3 = LinearRegression().fit(X_train, y_train)\n",
    "regressor3.score(X_test, y_test)"
   ]
  },
  {
   "cell_type": "code",
   "execution_count": null,
   "id": "270c0ddf",
   "metadata": {},
   "outputs": [],
   "source": []
  },
  {
   "cell_type": "code",
   "execution_count": null,
   "id": "66d53d42",
   "metadata": {},
   "outputs": [],
   "source": []
  }
 ],
 "metadata": {
  "kernelspec": {
   "display_name": "Python 3 (ipykernel)",
   "language": "python",
   "name": "python3"
  },
  "language_info": {
   "codemirror_mode": {
    "name": "ipython",
    "version": 3
   },
   "file_extension": ".py",
   "mimetype": "text/x-python",
   "name": "python",
   "nbconvert_exporter": "python",
   "pygments_lexer": "ipython3",
   "version": "3.9.13"
  }
 },
 "nbformat": 4,
 "nbformat_minor": 5
}
