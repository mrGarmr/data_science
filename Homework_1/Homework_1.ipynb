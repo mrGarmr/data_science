{
 "cells": [
  {
   "cell_type": "code",
   "execution_count": 2,
   "id": "0b9c7c83",
   "metadata": {},
   "outputs": [],
   "source": [
    "import numpy as np"
   ]
  },
  {
   "cell_type": "markdown",
   "id": "795ce501",
   "metadata": {},
   "source": [
    "The first exercise:\n",
    "\n",
    "Решите следующий комплекс задач. Составьте систему линейных уравнений и решите ее с помощью модуля numpy\n",
    "\n",
    "Вкладчик положил 50000 условных единиц на три разных счета в три разных банка. По первому счету выплаты составят 5% годовых, по второму – 7% годовых и по третьему 6% годовых. Известно, что через год вкладчик получил по процентам сумму в 2250 у.е. с первого и второго банка и сумму в 1400 у.е. с первого и третьего банка. Сколько условных единиц он положил на каждый счет изначально?\n"
   ]
  },
  {
   "cell_type": "markdown",
   "id": "6794a47a",
   "metadata": {},
   "source": [
    "Решение:\n",
    "\n",
    "a+b+c = 50000\n",
    "0,05*a + 0,07*b + 0*c = 2250\n",
    "0,05*a + 0 + 0,06*c = 1400"
   ]
  },
  {
   "cell_type": "code",
   "execution_count": 15,
   "id": "f63c853d",
   "metadata": {},
   "outputs": [
    {
     "name": "stdout",
     "output_type": "stream",
     "text": [
      "Банк №1: 10000.0\n",
      "Банк №2: 25000.0\n",
      "Банк №3: 15000.0\n"
     ]
    }
   ],
   "source": [
    "left = np.array([[1,1,1],[0.05, 0.07, 0], [0.05, 0, 0.06]])\n",
    "right = np.array([50000, 2250, 1400])\n",
    "result = np.linalg.inv(left).dot(right)\n",
    "print(f'Банк №1: {round(result[0],1)}\\nБанк №2: {round(result[1],1)}\\nБанк №3: {round(result[2],1)}')"
   ]
  },
  {
   "cell_type": "markdown",
   "id": "b163938f",
   "metadata": {},
   "source": [
    "The second exercise:\n",
    "    \n",
    "На складе хранятся мобильные телефоны iPhone 6, iPhone 11, iPhone 12 моделей. Всего 1328 экземпляра. Моделей iPhone 6 на 120 меньше, чем моделей iPhone 11, и на 100 больше, чем моделей iPhone 12. Сколько моделей каждого вида на складе?"
   ]
  },
  {
   "cell_type": "markdown",
   "id": "f3466bd3",
   "metadata": {},
   "source": [
    "ip6 + ip11 + ip12 = 1328\n",
    "\n",
    "ip6 + (-ip11) + 0 = -120\n",
    "\n",
    "ip6 + 0 + (-ip12) = 100"
   ]
  },
  {
   "cell_type": "code",
   "execution_count": 16,
   "id": "bc353892",
   "metadata": {},
   "outputs": [
    {
     "name": "stdout",
     "output_type": "stream",
     "text": [
      "iPhone 6: 436.0\n",
      "iPhone 11: 556.0\n",
      "iPhone 12: 336.0\n"
     ]
    }
   ],
   "source": [
    "left = np.array([[1,1,1], [1, -1, 0], [1, 0, -1]])\n",
    "right = np.array([1328, -120, 100])\n",
    "result = np.linalg.inv(left).dot(right)\n",
    "print(f'iPhone 6: {round(result[0],1)}\\niPhone 11: {round(result[1],1)}\\niPhone 12: {round(result[2],1)}')"
   ]
  },
  {
   "cell_type": "markdown",
   "id": "c0f48f0a",
   "metadata": {},
   "source": [
    "The third exercise:\n",
    "\n",
    "Составьте каноническое уравнение эллипсоида, проходящего через три точки A,B,C\n",
    "A (sqrt(3), 0, sqrt(3))\n",
    "B (sqrt(6), 0.5, 0)\n",
    "C (1, 1/sqrt(3), 1)\n",
    "\n",
    "x2/a**2 + y**2/b**2 + z**2/c**2 = 1\n"
   ]
  },
  {
   "cell_type": "markdown",
   "id": "ac089a59",
   "metadata": {},
   "source": [
    "Решение:\n",
    "\n",
    "Заменим дроби с параметрами:\n",
    "a_p = 1/a**2\n",
    "b_p = 1/b**2\n",
    "c_p = 1/c**2\n",
    "\n",
    "После подстановки:\n",
    "\n",
    "3a_p + 0b_p + 3c_p = 1  \n",
    "24a_p + b_p + 0c_p = 4\n",
    "3a_p + b_p + 3c_p = 3\n"
   ]
  },
  {
   "cell_type": "code",
   "execution_count": 20,
   "id": "cf01e679",
   "metadata": {},
   "outputs": [
    {
     "name": "stdout",
     "output_type": "stream",
     "text": [
      "Параметр a2: 12.0\n",
      "Параметр b2: 0.5\n",
      "Параметр c2: 4.0\n",
      "\n"
     ]
    }
   ],
   "source": [
    "left = np.array([[3, 0, 3], [24, 1, 0], [3, 1, 3]])\n",
    "right = np.array([1, 4, 3])\n",
    "result = np.linalg.inv(left).dot(right)\n",
    "a2 = 1/result[0]\n",
    "b2 = 1/result[1]\n",
    "c2 = 1/result[2]\n",
    "print(f'Параметр a2: {round(a2,3)}\\nПараметр b2: {round(b2,3)}\\nПараметр c2: {round(c2,3)}\\n')"
   ]
  },
  {
   "cell_type": "markdown",
   "id": "830c42e8",
   "metadata": {},
   "source": [
    "The fourth exercise:\n",
    "\n",
    "Составьте уравнение параболы проходящей через заданные три точки (1,12), (3,54), (-1,2). Необходимо найти коэффициенты уравнения a,b,c\n",
    "\n",
    "y=a*x^2 + b*x + c"
   ]
  },
  {
   "cell_type": "markdown",
   "id": "39a9b3c9",
   "metadata": {},
   "source": [
    "Решение:\n",
    "\n",
    "a + b + c = 12\n",
    "9a +3b + c = 54\n",
    "a + (-b) + c = 2"
   ]
  },
  {
   "cell_type": "code",
   "execution_count": 11,
   "id": "eff54d4c",
   "metadata": {},
   "outputs": [
    {
     "name": "stdout",
     "output_type": "stream",
     "text": [
      "Коэфициент a: 4.0\n",
      "Коэфициент b: 5.0\n",
      "Коэфициент c: 3.0\n",
      "\n"
     ]
    }
   ],
   "source": [
    "left = np.array([[1, 1, 1], [9, 3, 1], [1, -1, 1]])\n",
    "right = np.array([12, 54, 2])\n",
    "result = np.linalg.inv(left).dot(right)\n",
    "\n",
    "print(f'Коэфициент a: {result[0]}\\nКоэфициент b: {result[1]}\\nКоэфициент c: {result[2]}\\n')"
   ]
  },
  {
   "cell_type": "markdown",
   "id": "a071fb94",
   "metadata": {},
   "source": [
    "The fifth exercise:\n",
    "\n",
    "Составьте функцию get_polynom, которая по набору точек вида (x_1,y_1),(x_2,y_2), ..., (x_{n+1}, y_{n+1}), будет находить коэффициенты многочлена c_i. Таким образом функция принимает список кортежей с координатами и возвращает набор коэффициентов c_0, c_1, ..., c_n\n"
   ]
  },
  {
   "cell_type": "code",
   "execution_count": 8,
   "id": "e6a707e0",
   "metadata": {},
   "outputs": [
    {
     "name": "stdout",
     "output_type": "stream",
     "text": [
      "[ 2.25 -1.25 17.5 ]\n"
     ]
    }
   ],
   "source": [
    "import numpy as np\n",
    "\n",
    "\n",
    "def get_polynom(coords):\n",
    "    left = []\n",
    "    right = []\n",
    "    \n",
    "    for cordinat in coords:\n",
    "        i = len(coords)\n",
    "        part = []\n",
    "        while i>0:\n",
    "            i -= 1\n",
    "            part.append(cordinat[0]**(i))\n",
    "        left.append(part)\n",
    "        right.append(cordinat[1])\n",
    "    \n",
    "    a = np.array(left)\n",
    "    b = np.array(right)\n",
    "\n",
    "    return np.linalg.solve(a, b)\n",
    "\n",
    "print(get_polynom([(3, 34), (2, 24), (-1, 21)]))\n"
   ]
  },
  {
   "cell_type": "code",
   "execution_count": null,
   "id": "d8f27c5a",
   "metadata": {},
   "outputs": [],
   "source": []
  }
 ],
 "metadata": {
  "kernelspec": {
   "display_name": "Python 3 (ipykernel)",
   "language": "python",
   "name": "python3"
  },
  "language_info": {
   "codemirror_mode": {
    "name": "ipython",
    "version": 3
   },
   "file_extension": ".py",
   "mimetype": "text/x-python",
   "name": "python",
   "nbconvert_exporter": "python",
   "pygments_lexer": "ipython3",
   "version": "3.9.13"
  }
 },
 "nbformat": 4,
 "nbformat_minor": 5
}
